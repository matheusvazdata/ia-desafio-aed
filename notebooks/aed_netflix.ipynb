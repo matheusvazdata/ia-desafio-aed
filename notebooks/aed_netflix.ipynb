{
 "cells": [
  {
   "cell_type": "markdown",
   "metadata": {},
   "source": [
    "# 📊 Análise Exploratória de Dados (EDA) - Netflix Daily Top 10\n",
    "\n",
    "## 🎯 Objetivo\n",
    "Este projeto tem como objetivo realizar uma **Análise Exploratória de Dados (EDA)** na base `netflix_daily_top_10.csv`, identificando padrões, verificando a qualidade dos dados e extraindo insights.\n",
    "\n",
    "## 🗂️ Escopo da Análise\n",
    "A análise será focada nos seguintes aspectos:\n",
    "- **Tipos de dados disponíveis** 📌\n",
    "- **Período da análise feita** 📆\n",
    "- **Tamanho da base de dados** 🔍\n",
    "- **Verificação de valores nulos** ⚠️\n",
    "- **Identificação de outliers** 📈\n",
    "\n",
    "## 📁 Fonte dos Dados\n",
    "Os dados utilizados neste projeto foram fornecidos pela **Rocketseat** e podem ser acessados no seguinte link:\n",
    "🔗 [Download do dataset](https://efficient-sloth-d85.notion.site/Desafio-EDA-c8c8b2faf153449193b4b9fb0895afa6)\n",
    "\n",
    "## 🛠️ Tecnologias Utilizadas\n",
    "- **Python** 🐍\n",
    "- **Pandas** 🏷️\n",
    "- **Matplotlib e Seaborn** 📊\n",
    "- **Jupyter Notebook** 📝\n",
    "\n",
    "## 🚀 Vamos começar!"
   ]
  },
  {
   "cell_type": "markdown",
   "metadata": {},
   "source": [
    "### Passo 1: Importar e Ler os Dados"
   ]
  },
  {
   "cell_type": "code",
   "execution_count": 1,
   "metadata": {},
   "outputs": [],
   "source": [
    "# Importação da biblioteca pandas\n",
    "import pandas as pd"
   ]
  },
  {
   "cell_type": "code",
   "execution_count": null,
   "metadata": {},
   "outputs": [],
   "source": []
  }
 ],
 "metadata": {
  "kernelspec": {
   "display_name": ".venv",
   "language": "python",
   "name": "python3"
  },
  "language_info": {
   "codemirror_mode": {
    "name": "ipython",
    "version": 3
   },
   "file_extension": ".py",
   "mimetype": "text/x-python",
   "name": "python",
   "nbconvert_exporter": "python",
   "pygments_lexer": "ipython3",
   "version": "3.11.9"
  }
 },
 "nbformat": 4,
 "nbformat_minor": 2
}
