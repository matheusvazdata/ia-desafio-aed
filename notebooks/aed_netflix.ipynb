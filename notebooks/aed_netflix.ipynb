{
 "cells": [
  {
   "cell_type": "markdown",
   "metadata": {},
   "source": [
    "# 📊 Análise Exploratória de Dados (EDA) - Netflix Daily Top 10\n",
    "\n",
    "## 🎯 Objetivo\n",
    "Este projeto tem como objetivo realizar uma **Análise Exploratória de Dados (EDA)** na base `netflix_daily_top_10.csv`, identificando padrões, verificando a qualidade dos dados e extraindo insights.\n",
    "\n",
    "## 🗂️ Escopo da Análise\n",
    "A análise será focada nos seguintes aspectos:\n",
    "- **Tipos de dados disponíveis** 📌\n",
    "- **Período da análise feita** 📆\n",
    "- **Tamanho da base de dados** 🔍\n",
    "- **Verificação de valores nulos** ⚠️\n",
    "- **Identificação de outliers** 📈\n",
    "\n",
    "## 📁 Fonte dos Dados\n",
    "Os dados utilizados neste projeto foram fornecidos pela **Rocketseat** e podem ser acessados no seguinte link:\n",
    "🔗 [Download do dataset](https://efficient-sloth-d85.notion.site/Desafio-EDA-c8c8b2faf153449193b4b9fb0895afa6)\n",
    "\n",
    "## 🛠️ Tecnologias Utilizadas\n",
    "- **Python** 🐍\n",
    "- **Pandas** 🏷️\n",
    "- **Matplotlib e Seaborn** 📊\n",
    "- **Jupyter Notebook** 📝\n",
    "\n",
    "## 🚀 Vamos começar!"
   ]
  },
  {
   "cell_type": "code",
   "execution_count": 54,
   "metadata": {},
   "outputs": [],
   "source": [
    "# Importação das bibliotecas necessárias\n",
    "import pandas as pd\n",
    "import seaborn as sns\n",
    "import matplotlib.pyplot as plt"
   ]
  },
  {
   "cell_type": "code",
   "execution_count": null,
   "metadata": {},
   "outputs": [],
   "source": [
    "# Carregamento dos dados\n",
    "df = pd.read_csv('..\\data\\daily_top_10_netflix .csv')"
   ]
  },
  {
   "cell_type": "code",
   "execution_count": 8,
   "metadata": {},
   "outputs": [
    {
     "data": {
      "text/html": [
       "<div>\n",
       "<style scoped>\n",
       "    .dataframe tbody tr th:only-of-type {\n",
       "        vertical-align: middle;\n",
       "    }\n",
       "\n",
       "    .dataframe tbody tr th {\n",
       "        vertical-align: top;\n",
       "    }\n",
       "\n",
       "    .dataframe thead th {\n",
       "        text-align: right;\n",
       "    }\n",
       "</style>\n",
       "<table border=\"1\" class=\"dataframe\">\n",
       "  <thead>\n",
       "    <tr style=\"text-align: right;\">\n",
       "      <th></th>\n",
       "      <th>As of</th>\n",
       "      <th>Rank</th>\n",
       "      <th>Year to Date Rank</th>\n",
       "      <th>Last Week Rank</th>\n",
       "      <th>Title</th>\n",
       "      <th>Type</th>\n",
       "      <th>Netflix Exclusive</th>\n",
       "      <th>Netflix Release Date</th>\n",
       "      <th>Days In Top 10</th>\n",
       "      <th>Viewership Score</th>\n",
       "    </tr>\n",
       "  </thead>\n",
       "  <tbody>\n",
       "    <tr>\n",
       "      <th>0</th>\n",
       "      <td>2020-04-01</td>\n",
       "      <td>1</td>\n",
       "      <td>1</td>\n",
       "      <td>1</td>\n",
       "      <td>Tiger King: Murder, Mayhem …</td>\n",
       "      <td>TV Show</td>\n",
       "      <td>Yes</td>\n",
       "      <td>Mar 20, 2020</td>\n",
       "      <td>9</td>\n",
       "      <td>90</td>\n",
       "    </tr>\n",
       "    <tr>\n",
       "      <th>1</th>\n",
       "      <td>2020-04-01</td>\n",
       "      <td>2</td>\n",
       "      <td>2</td>\n",
       "      <td>-</td>\n",
       "      <td>Ozark</td>\n",
       "      <td>TV Show</td>\n",
       "      <td>Yes</td>\n",
       "      <td>Jul 21, 2017</td>\n",
       "      <td>5</td>\n",
       "      <td>45</td>\n",
       "    </tr>\n",
       "    <tr>\n",
       "      <th>2</th>\n",
       "      <td>2020-04-01</td>\n",
       "      <td>3</td>\n",
       "      <td>3</td>\n",
       "      <td>2</td>\n",
       "      <td>All American</td>\n",
       "      <td>TV Show</td>\n",
       "      <td>NaN</td>\n",
       "      <td>Mar 28, 2019</td>\n",
       "      <td>9</td>\n",
       "      <td>76</td>\n",
       "    </tr>\n",
       "    <tr>\n",
       "      <th>3</th>\n",
       "      <td>2020-04-01</td>\n",
       "      <td>4</td>\n",
       "      <td>4</td>\n",
       "      <td>-</td>\n",
       "      <td>Blood Father</td>\n",
       "      <td>Movie</td>\n",
       "      <td>NaN</td>\n",
       "      <td>Mar 26, 2020</td>\n",
       "      <td>5</td>\n",
       "      <td>30</td>\n",
       "    </tr>\n",
       "    <tr>\n",
       "      <th>4</th>\n",
       "      <td>2020-04-01</td>\n",
       "      <td>5</td>\n",
       "      <td>5</td>\n",
       "      <td>4</td>\n",
       "      <td>The Platform</td>\n",
       "      <td>Movie</td>\n",
       "      <td>Yes</td>\n",
       "      <td>Mar 20, 2020</td>\n",
       "      <td>9</td>\n",
       "      <td>55</td>\n",
       "    </tr>\n",
       "  </tbody>\n",
       "</table>\n",
       "</div>"
      ],
      "text/plain": [
       "        As of  Rank Year to Date Rank Last Week Rank  \\\n",
       "0  2020-04-01     1                 1              1   \n",
       "1  2020-04-01     2                 2              -   \n",
       "2  2020-04-01     3                 3              2   \n",
       "3  2020-04-01     4                 4              -   \n",
       "4  2020-04-01     5                 5              4   \n",
       "\n",
       "                          Title     Type Netflix Exclusive  \\\n",
       "0  Tiger King: Murder, Mayhem …  TV Show               Yes   \n",
       "1                         Ozark  TV Show               Yes   \n",
       "2                  All American  TV Show               NaN   \n",
       "3                  Blood Father    Movie               NaN   \n",
       "4                  The Platform    Movie               Yes   \n",
       "\n",
       "  Netflix Release Date  Days In Top 10  Viewership Score  \n",
       "0         Mar 20, 2020               9                90  \n",
       "1         Jul 21, 2017               5                45  \n",
       "2         Mar 28, 2019               9                76  \n",
       "3         Mar 26, 2020               5                30  \n",
       "4         Mar 20, 2020               9                55  "
      ]
     },
     "execution_count": 8,
     "metadata": {},
     "output_type": "execute_result"
    }
   ],
   "source": [
    "# Exibição das 5 primeiras linhas\n",
    "df.head()"
   ]
  },
  {
   "cell_type": "code",
   "execution_count": 9,
   "metadata": {},
   "outputs": [
    {
     "data": {
      "text/plain": [
       "(7100, 10)"
      ]
     },
     "execution_count": 9,
     "metadata": {},
     "output_type": "execute_result"
    }
   ],
   "source": [
    "# Verificação da quantidade de linhas e colunas\n",
    "df.shape"
   ]
  },
  {
   "cell_type": "markdown",
   "metadata": {},
   "source": [
    "### Pergunta 1: tipos de dados disponíveis"
   ]
  },
  {
   "cell_type": "code",
   "execution_count": 10,
   "metadata": {},
   "outputs": [
    {
     "data": {
      "text/plain": [
       "As of                   object\n",
       "Rank                     int64\n",
       "Year to Date Rank       object\n",
       "Last Week Rank          object\n",
       "Title                   object\n",
       "Type                    object\n",
       "Netflix Exclusive       object\n",
       "Netflix Release Date    object\n",
       "Days In Top 10           int64\n",
       "Viewership Score         int64\n",
       "dtype: object"
      ]
     },
     "execution_count": 10,
     "metadata": {},
     "output_type": "execute_result"
    }
   ],
   "source": [
    "# Verificação dos tipos de dados\n",
    "df.dtypes"
   ]
  },
  {
   "cell_type": "markdown",
   "metadata": {},
   "source": [
    "### Pergunta 2: período da análise feita"
   ]
  },
  {
   "cell_type": "code",
   "execution_count": 35,
   "metadata": {},
   "outputs": [],
   "source": [
    "# Conversão da coluna \"Netflix Release Date\" para o tipo datetime\n",
    "df['As of'] = pd.to_datetime(df['As of'])"
   ]
  },
  {
   "cell_type": "code",
   "execution_count": 36,
   "metadata": {},
   "outputs": [
    {
     "name": "stdout",
     "output_type": "stream",
     "text": [
      "<class 'pandas.core.frame.DataFrame'>\n",
      "RangeIndex: 7100 entries, 0 to 7099\n",
      "Data columns (total 10 columns):\n",
      " #   Column                Non-Null Count  Dtype         \n",
      "---  ------                --------------  -----         \n",
      " 0   As of                 7100 non-null   datetime64[ns]\n",
      " 1   Rank                  7100 non-null   int64         \n",
      " 2   Year to Date Rank     7100 non-null   object        \n",
      " 3   Last Week Rank        3132 non-null   object        \n",
      " 4   Title                 7100 non-null   object        \n",
      " 5   Type                  7100 non-null   object        \n",
      " 6   Netflix Exclusive     4599 non-null   object        \n",
      " 7   Netflix Release Date  7100 non-null   datetime64[ns]\n",
      " 8   Days In Top 10        7100 non-null   int64         \n",
      " 9   Viewership Score      7100 non-null   int64         \n",
      "dtypes: datetime64[ns](2), int64(3), object(5)\n",
      "memory usage: 554.8+ KB\n"
     ]
    }
   ],
   "source": [
    "# Verificação dos tipos de dados\n",
    "df.info()"
   ]
  },
  {
   "cell_type": "code",
   "execution_count": 38,
   "metadata": {},
   "outputs": [
    {
     "data": {
      "text/plain": [
       "(Timestamp('2020-04-01 00:00:00'), Timestamp('2022-03-11 00:00:00'))"
      ]
     },
     "execution_count": 38,
     "metadata": {},
     "output_type": "execute_result"
    }
   ],
   "source": [
    "# Verificação do mínimo e máximo da coluna \"Netflix Release Date\"\t\n",
    "df['As of'].min(), df['As of'].max()"
   ]
  },
  {
   "cell_type": "markdown",
   "metadata": {},
   "source": [
    "> Para entender o intervalo de tempo coberto pelos dados, analisei os valores mínimo e máximo da coluna **\"As of\"**.  \n",
    "> - **Data mínima:** `1º de abril de 2020`  \n",
    "> - **Data máxima:** `11 de março de 2022`  "
   ]
  },
  {
   "cell_type": "markdown",
   "metadata": {},
   "source": [
    "### Pergunta 3: tamanho da base de dados"
   ]
  },
  {
   "cell_type": "code",
   "execution_count": 17,
   "metadata": {},
   "outputs": [
    {
     "data": {
      "text/plain": [
       "(7100, 10)"
      ]
     },
     "execution_count": 17,
     "metadata": {},
     "output_type": "execute_result"
    }
   ],
   "source": [
    "# Verificação do número de linhas e colunas\n",
    "df.shape"
   ]
  },
  {
   "cell_type": "markdown",
   "metadata": {},
   "source": [
    "> A base de dados possui um total de **7.100 linhas** e **10 colunas**."
   ]
  },
  {
   "cell_type": "markdown",
   "metadata": {},
   "source": [
    "### Pergunta 4: verificar dados nulos"
   ]
  },
  {
   "cell_type": "code",
   "execution_count": 18,
   "metadata": {},
   "outputs": [
    {
     "data": {
      "text/plain": [
       "As of                      0\n",
       "Rank                       0\n",
       "Year to Date Rank          0\n",
       "Last Week Rank             0\n",
       "Title                      0\n",
       "Type                       0\n",
       "Netflix Exclusive       2501\n",
       "Netflix Release Date       0\n",
       "Days In Top 10             0\n",
       "Viewership Score           0\n",
       "dtype: int64"
      ]
     },
     "execution_count": 18,
     "metadata": {},
     "output_type": "execute_result"
    }
   ],
   "source": [
    "# Verificação da quantidade de valores ausentes\n",
    "df.isnull().sum()"
   ]
  },
  {
   "cell_type": "code",
   "execution_count": 19,
   "metadata": {},
   "outputs": [
    {
     "data": {
      "text/plain": [
       "array(['1', '-', '2', '4', '5', '3', '8', '9', '6', '7', '10'],\n",
       "      dtype=object)"
      ]
     },
     "execution_count": 19,
     "metadata": {},
     "output_type": "execute_result"
    }
   ],
   "source": [
    "# Verificação dos valores únicos da coluna \"Last Week Rank\"\n",
    "df['Last Week Rank'].unique()"
   ]
  },
  {
   "cell_type": "markdown",
   "metadata": {},
   "source": [
    "> A coluna **\"Last Week Rank\"** não possui valores nulos explícitos, mas apresenta o símbolo **\"-\"**, que pode indicar ausência de informação.  \n",
    ">  \n",
    "> Para garantir uma análise precisa, é recomendado transformar **\"-\"** e eventuais valores `NaN` em um formato adequado, como **NaN do pandas** (`pd.NA`) ou um valor numérico coerente (ex.: `0` para indicar que o título não estava no ranking na semana anterior)."
   ]
  },
  {
   "cell_type": "code",
   "execution_count": 20,
   "metadata": {},
   "outputs": [],
   "source": [
    "# Transformação do \"-\" em NaN na coluna \"Last Week Rank\"\n",
    "df['Last Week Rank'] = df['Last Week Rank'].replace('-', pd.NA)"
   ]
  },
  {
   "cell_type": "code",
   "execution_count": 21,
   "metadata": {},
   "outputs": [
    {
     "data": {
      "text/plain": [
       "As of                      0\n",
       "Rank                       0\n",
       "Year to Date Rank          0\n",
       "Last Week Rank          3968\n",
       "Title                      0\n",
       "Type                       0\n",
       "Netflix Exclusive       2501\n",
       "Netflix Release Date       0\n",
       "Days In Top 10             0\n",
       "Viewership Score           0\n",
       "dtype: int64"
      ]
     },
     "execution_count": 21,
     "metadata": {},
     "output_type": "execute_result"
    }
   ],
   "source": [
    "# Verificação dos valores ausentes depois da transformação\n",
    "df.isnull().sum()"
   ]
  },
  {
   "cell_type": "markdown",
   "metadata": {},
   "source": [
    "### Pergunta 5: outliers"
   ]
  },
  {
   "cell_type": "code",
   "execution_count": 23,
   "metadata": {},
   "outputs": [
    {
     "data": {
      "text/html": [
       "<div>\n",
       "<style scoped>\n",
       "    .dataframe tbody tr th:only-of-type {\n",
       "        vertical-align: middle;\n",
       "    }\n",
       "\n",
       "    .dataframe tbody tr th {\n",
       "        vertical-align: top;\n",
       "    }\n",
       "\n",
       "    .dataframe thead th {\n",
       "        text-align: right;\n",
       "    }\n",
       "</style>\n",
       "<table border=\"1\" class=\"dataframe\">\n",
       "  <thead>\n",
       "    <tr style=\"text-align: right;\">\n",
       "      <th></th>\n",
       "      <th>Rank</th>\n",
       "      <th>Netflix Release Date</th>\n",
       "      <th>Days In Top 10</th>\n",
       "      <th>Viewership Score</th>\n",
       "    </tr>\n",
       "  </thead>\n",
       "  <tbody>\n",
       "    <tr>\n",
       "      <th>count</th>\n",
       "      <td>7100.000000</td>\n",
       "      <td>7100</td>\n",
       "      <td>7100.000000</td>\n",
       "      <td>7100.000000</td>\n",
       "    </tr>\n",
       "    <tr>\n",
       "      <th>mean</th>\n",
       "      <td>5.500000</td>\n",
       "      <td>2020-06-21 08:05:32.619718144</td>\n",
       "      <td>24.123662</td>\n",
       "      <td>122.790141</td>\n",
       "    </tr>\n",
       "    <tr>\n",
       "      <th>min</th>\n",
       "      <td>1.000000</td>\n",
       "      <td>2007-01-15 00:00:00</td>\n",
       "      <td>1.000000</td>\n",
       "      <td>1.000000</td>\n",
       "    </tr>\n",
       "    <tr>\n",
       "      <th>25%</th>\n",
       "      <td>3.000000</td>\n",
       "      <td>2020-04-26 00:00:00</td>\n",
       "      <td>3.000000</td>\n",
       "      <td>19.000000</td>\n",
       "    </tr>\n",
       "    <tr>\n",
       "      <th>50%</th>\n",
       "      <td>5.500000</td>\n",
       "      <td>2020-10-02 00:00:00</td>\n",
       "      <td>7.000000</td>\n",
       "      <td>50.000000</td>\n",
       "    </tr>\n",
       "    <tr>\n",
       "      <th>75%</th>\n",
       "      <td>8.000000</td>\n",
       "      <td>2021-05-14 00:00:00</td>\n",
       "      <td>18.000000</td>\n",
       "      <td>128.000000</td>\n",
       "    </tr>\n",
       "    <tr>\n",
       "      <th>max</th>\n",
       "      <td>10.000000</td>\n",
       "      <td>2022-03-04 00:00:00</td>\n",
       "      <td>428.000000</td>\n",
       "      <td>1474.000000</td>\n",
       "    </tr>\n",
       "    <tr>\n",
       "      <th>std</th>\n",
       "      <td>2.872484</td>\n",
       "      <td>NaN</td>\n",
       "      <td>58.473789</td>\n",
       "      <td>213.861642</td>\n",
       "    </tr>\n",
       "  </tbody>\n",
       "</table>\n",
       "</div>"
      ],
      "text/plain": [
       "              Rank           Netflix Release Date  Days In Top 10  \\\n",
       "count  7100.000000                           7100     7100.000000   \n",
       "mean      5.500000  2020-06-21 08:05:32.619718144       24.123662   \n",
       "min       1.000000            2007-01-15 00:00:00        1.000000   \n",
       "25%       3.000000            2020-04-26 00:00:00        3.000000   \n",
       "50%       5.500000            2020-10-02 00:00:00        7.000000   \n",
       "75%       8.000000            2021-05-14 00:00:00       18.000000   \n",
       "max      10.000000            2022-03-04 00:00:00      428.000000   \n",
       "std       2.872484                            NaN       58.473789   \n",
       "\n",
       "       Viewership Score  \n",
       "count       7100.000000  \n",
       "mean         122.790141  \n",
       "min            1.000000  \n",
       "25%           19.000000  \n",
       "50%           50.000000  \n",
       "75%          128.000000  \n",
       "max         1474.000000  \n",
       "std          213.861642  "
      ]
     },
     "execution_count": 23,
     "metadata": {},
     "output_type": "execute_result"
    }
   ],
   "source": [
    "# Visualização de estatísticas descritivas\n",
    "df.describe()"
   ]
  },
  {
   "cell_type": "markdown",
   "metadata": {},
   "source": [
    "#### Coluna \"Viewership Score\""
   ]
  },
  {
   "cell_type": "code",
   "execution_count": 25,
   "metadata": {},
   "outputs": [
    {
     "data": {
      "text/plain": [
       "<Axes: >"
      ]
     },
     "execution_count": 25,
     "metadata": {},
     "output_type": "execute_result"
    },
    {
     "data": {
      "image/png": "[encoded data removed]",
      "text/plain": [
       "<Figure size 640x480 with 1 Axes>"
      ]
     },
     "metadata": {},
     "output_type": "display_data"
    }
   ],
   "source": [
    "# Identificação de outliers da coluna \"Viewership Score\"\n",
    "df['Viewership Score'].plot(kind='box')"
   ]
  },
  {
   "cell_type": "code",
   "execution_count": 26,
   "metadata": {},
   "outputs": [],
   "source": [
    "# Filtragem dos outliers pelo intervalo interquartil\n",
    "q1 = df['Viewership Score'].quantile(0.25)\n",
    "q3 = df['Viewership Score'].quantile(0.75)\n",
    "\n",
    "# Cálculo do intervalo interquartil\n",
    "iqr = q3 - q1"
   ]
  },
  {
   "cell_type": "code",
   "execution_count": 27,
   "metadata": {},
   "outputs": [],
   "source": [
    "# Definição dos limites inferior e superior\n",
    "lower_bound = q1 - 1.5 * iqr\n",
    "upper_bound = q3 + 1.5 * iqr"
   ]
  },
  {
   "cell_type": "code",
   "execution_count": 30,
   "metadata": {},
   "outputs": [
    {
     "data": {
      "text/html": [
       "<div>\n",
       "<style scoped>\n",
       "    .dataframe tbody tr th:only-of-type {\n",
       "        vertical-align: middle;\n",
       "    }\n",
       "\n",
       "    .dataframe tbody tr th {\n",
       "        vertical-align: top;\n",
       "    }\n",
       "\n",
       "    .dataframe thead th {\n",
       "        text-align: right;\n",
       "    }\n",
       "</style>\n",
       "<table border=\"1\" class=\"dataframe\">\n",
       "  <thead>\n",
       "    <tr style=\"text-align: right;\">\n",
       "      <th></th>\n",
       "      <th>As of</th>\n",
       "      <th>Rank</th>\n",
       "      <th>Year to Date Rank</th>\n",
       "      <th>Last Week Rank</th>\n",
       "      <th>Title</th>\n",
       "      <th>Type</th>\n",
       "      <th>Netflix Exclusive</th>\n",
       "      <th>Netflix Release Date</th>\n",
       "      <th>Days In Top 10</th>\n",
       "      <th>Viewership Score</th>\n",
       "    </tr>\n",
       "  </thead>\n",
       "  <tbody>\n",
       "    <tr>\n",
       "      <th>236</th>\n",
       "      <td>2020-04-24</td>\n",
       "      <td>7</td>\n",
       "      <td>7</td>\n",
       "      <td>2</td>\n",
       "      <td>Tiger King: Murder, Mayhem …</td>\n",
       "      <td>TV Show</td>\n",
       "      <td>Yes</td>\n",
       "      <td>2020-03-20</td>\n",
       "      <td>32</td>\n",
       "      <td>292</td>\n",
       "    </tr>\n",
       "    <tr>\n",
       "      <th>247</th>\n",
       "      <td>2020-04-25</td>\n",
       "      <td>8</td>\n",
       "      <td>7</td>\n",
       "      <td>2</td>\n",
       "      <td>Tiger King: Murder, Mayhem …</td>\n",
       "      <td>TV Show</td>\n",
       "      <td>Yes</td>\n",
       "      <td>2020-03-20</td>\n",
       "      <td>33</td>\n",
       "      <td>295</td>\n",
       "    </tr>\n",
       "    <tr>\n",
       "      <th>255</th>\n",
       "      <td>2020-04-26</td>\n",
       "      <td>6</td>\n",
       "      <td>8</td>\n",
       "      <td>3</td>\n",
       "      <td>Tiger King: Murder, Mayhem …</td>\n",
       "      <td>TV Show</td>\n",
       "      <td>Yes</td>\n",
       "      <td>2020-03-20</td>\n",
       "      <td>34</td>\n",
       "      <td>300</td>\n",
       "    </tr>\n",
       "    <tr>\n",
       "      <th>269</th>\n",
       "      <td>2020-04-27</td>\n",
       "      <td>10</td>\n",
       "      <td>6</td>\n",
       "      <td>4</td>\n",
       "      <td>Tiger King: Murder, Mayhem …</td>\n",
       "      <td>TV Show</td>\n",
       "      <td>Yes</td>\n",
       "      <td>2020-03-20</td>\n",
       "      <td>35</td>\n",
       "      <td>301</td>\n",
       "    </tr>\n",
       "    <tr>\n",
       "      <th>2382</th>\n",
       "      <td>2020-11-25</td>\n",
       "      <td>3</td>\n",
       "      <td>2</td>\n",
       "      <td>3</td>\n",
       "      <td>The Queenâs Gambit</td>\n",
       "      <td>TV Show</td>\n",
       "      <td>Yes</td>\n",
       "      <td>2020-10-23</td>\n",
       "      <td>33</td>\n",
       "      <td>296</td>\n",
       "    </tr>\n",
       "    <tr>\n",
       "      <th>...</th>\n",
       "      <td>...</td>\n",
       "      <td>...</td>\n",
       "      <td>...</td>\n",
       "      <td>...</td>\n",
       "      <td>...</td>\n",
       "      <td>...</td>\n",
       "      <td>...</td>\n",
       "      <td>...</td>\n",
       "      <td>...</td>\n",
       "      <td>...</td>\n",
       "    </tr>\n",
       "    <tr>\n",
       "      <th>7008</th>\n",
       "      <td>2022-03-02</td>\n",
       "      <td>9</td>\n",
       "      <td>6</td>\n",
       "      <td>3</td>\n",
       "      <td>Sweet Magnolias</td>\n",
       "      <td>TV Show</td>\n",
       "      <td>Yes</td>\n",
       "      <td>2020-05-19</td>\n",
       "      <td>45</td>\n",
       "      <td>344</td>\n",
       "    </tr>\n",
       "    <tr>\n",
       "      <th>7063</th>\n",
       "      <td>2022-03-08</td>\n",
       "      <td>4</td>\n",
       "      <td>4</td>\n",
       "      <td>4</td>\n",
       "      <td>Love is Blind</td>\n",
       "      <td>TV Show</td>\n",
       "      <td>Yes</td>\n",
       "      <td>2020-02-13</td>\n",
       "      <td>43</td>\n",
       "      <td>295</td>\n",
       "    </tr>\n",
       "    <tr>\n",
       "      <th>7074</th>\n",
       "      <td>2022-03-09</td>\n",
       "      <td>5</td>\n",
       "      <td>4</td>\n",
       "      <td>5</td>\n",
       "      <td>Love is Blind</td>\n",
       "      <td>TV Show</td>\n",
       "      <td>Yes</td>\n",
       "      <td>2020-02-13</td>\n",
       "      <td>44</td>\n",
       "      <td>301</td>\n",
       "    </tr>\n",
       "    <tr>\n",
       "      <th>7085</th>\n",
       "      <td>2022-03-10</td>\n",
       "      <td>6</td>\n",
       "      <td>5</td>\n",
       "      <td>5</td>\n",
       "      <td>Love is Blind</td>\n",
       "      <td>TV Show</td>\n",
       "      <td>Yes</td>\n",
       "      <td>2020-02-13</td>\n",
       "      <td>45</td>\n",
       "      <td>306</td>\n",
       "    </tr>\n",
       "    <tr>\n",
       "      <th>7094</th>\n",
       "      <td>2022-03-11</td>\n",
       "      <td>5</td>\n",
       "      <td>6</td>\n",
       "      <td>6</td>\n",
       "      <td>Love is Blind</td>\n",
       "      <td>TV Show</td>\n",
       "      <td>Yes</td>\n",
       "      <td>2020-02-13</td>\n",
       "      <td>46</td>\n",
       "      <td>312</td>\n",
       "    </tr>\n",
       "  </tbody>\n",
       "</table>\n",
       "<p>698 rows × 10 columns</p>\n",
       "</div>"
      ],
      "text/plain": [
       "           As of  Rank Year to Date Rank Last Week Rank  \\\n",
       "236   2020-04-24     7                 7              2   \n",
       "247   2020-04-25     8                 7              2   \n",
       "255   2020-04-26     6                 8              3   \n",
       "269   2020-04-27    10                 6              4   \n",
       "2382  2020-11-25     3                 2              3   \n",
       "...          ...   ...               ...            ...   \n",
       "7008  2022-03-02     9                 6              3   \n",
       "7063  2022-03-08     4                 4              4   \n",
       "7074  2022-03-09     5                 4              5   \n",
       "7085  2022-03-10     6                 5              5   \n",
       "7094  2022-03-11     5                 6              6   \n",
       "\n",
       "                             Title     Type Netflix Exclusive  \\\n",
       "236   Tiger King: Murder, Mayhem …  TV Show               Yes   \n",
       "247   Tiger King: Murder, Mayhem …  TV Show               Yes   \n",
       "255   Tiger King: Murder, Mayhem …  TV Show               Yes   \n",
       "269   Tiger King: Murder, Mayhem …  TV Show               Yes   \n",
       "2382          The Queenâs Gambit  TV Show               Yes   \n",
       "...                            ...      ...               ...   \n",
       "7008               Sweet Magnolias  TV Show               Yes   \n",
       "7063                 Love is Blind  TV Show               Yes   \n",
       "7074                 Love is Blind  TV Show               Yes   \n",
       "7085                 Love is Blind  TV Show               Yes   \n",
       "7094                 Love is Blind  TV Show               Yes   \n",
       "\n",
       "     Netflix Release Date  Days In Top 10  Viewership Score  \n",
       "236            2020-03-20              32               292  \n",
       "247            2020-03-20              33               295  \n",
       "255            2020-03-20              34               300  \n",
       "269            2020-03-20              35               301  \n",
       "2382           2020-10-23              33               296  \n",
       "...                   ...             ...               ...  \n",
       "7008           2020-05-19              45               344  \n",
       "7063           2020-02-13              43               295  \n",
       "7074           2020-02-13              44               301  \n",
       "7085           2020-02-13              45               306  \n",
       "7094           2020-02-13              46               312  \n",
       "\n",
       "[698 rows x 10 columns]"
      ]
     },
     "execution_count": 30,
     "metadata": {},
     "output_type": "execute_result"
    }
   ],
   "source": [
    "# Filtragem dos outliers\n",
    "df_outliers = df[(df['Viewership Score'] < lower_bound) | (df['Viewership Score'] > upper_bound)]\n",
    "df_outliers"
   ]
  },
  {
   "cell_type": "markdown",
   "metadata": {},
   "source": [
    "#### Coluna \"Days In Top 10\""
   ]
  },
  {
   "cell_type": "code",
   "execution_count": 31,
   "metadata": {},
   "outputs": [
    {
     "data": {
      "text/plain": [
       "<Axes: >"
      ]
     },
     "execution_count": 31,
     "metadata": {},
     "output_type": "execute_result"
    },
    {
     "data": {
      "image/png": "[encoded data removed]",
      "text/plain": [
       "<Figure size 640x480 with 1 Axes>"
      ]
     },
     "metadata": {},
     "output_type": "display_data"
    }
   ],
   "source": [
    "# Identificação de outliers da coluna \"Viewership Score\"\n",
    "df['Days In Top 10'].plot(kind='box')"
   ]
  },
  {
   "cell_type": "code",
   "execution_count": 32,
   "metadata": {},
   "outputs": [],
   "source": [
    "# Filtragem dos outliers pelo intervalo interquartil\n",
    "q1 = df['Days In Top 10'].quantile(0.25)\n",
    "q3 = df['Days In Top 10'].quantile(0.75)\n",
    "\n",
    "# Cálculo do intervalo interquartil\n",
    "iqr = q3 - q1"
   ]
  },
  {
   "cell_type": "code",
   "execution_count": 33,
   "metadata": {},
   "outputs": [],
   "source": [
    "# Definição dos limites inferior e superior\n",
    "lower_bound = q1 - 1.5 * iqr\n",
    "upper_bound = q3 + 1.5 * iqr"
   ]
  },
  {
   "cell_type": "code",
   "execution_count": 34,
   "metadata": {},
   "outputs": [
    {
     "data": {
      "text/html": [
       "<div>\n",
       "<style scoped>\n",
       "    .dataframe tbody tr th:only-of-type {\n",
       "        vertical-align: middle;\n",
       "    }\n",
       "\n",
       "    .dataframe tbody tr th {\n",
       "        vertical-align: top;\n",
       "    }\n",
       "\n",
       "    .dataframe thead th {\n",
       "        text-align: right;\n",
       "    }\n",
       "</style>\n",
       "<table border=\"1\" class=\"dataframe\">\n",
       "  <thead>\n",
       "    <tr style=\"text-align: right;\">\n",
       "      <th></th>\n",
       "      <th>As of</th>\n",
       "      <th>Rank</th>\n",
       "      <th>Year to Date Rank</th>\n",
       "      <th>Last Week Rank</th>\n",
       "      <th>Title</th>\n",
       "      <th>Type</th>\n",
       "      <th>Netflix Exclusive</th>\n",
       "      <th>Netflix Release Date</th>\n",
       "      <th>Days In Top 10</th>\n",
       "      <th>Viewership Score</th>\n",
       "    </tr>\n",
       "  </thead>\n",
       "  <tbody>\n",
       "    <tr>\n",
       "      <th>438</th>\n",
       "      <td>2020-05-14</td>\n",
       "      <td>9</td>\n",
       "      <td>9</td>\n",
       "      <td>&lt;NA&gt;</td>\n",
       "      <td>Ozark</td>\n",
       "      <td>TV Show</td>\n",
       "      <td>Yes</td>\n",
       "      <td>2017-07-21</td>\n",
       "      <td>41</td>\n",
       "      <td>256</td>\n",
       "    </tr>\n",
       "    <tr>\n",
       "      <th>447</th>\n",
       "      <td>2020-05-15</td>\n",
       "      <td>8</td>\n",
       "      <td>9</td>\n",
       "      <td>10</td>\n",
       "      <td>Ozark</td>\n",
       "      <td>TV Show</td>\n",
       "      <td>Yes</td>\n",
       "      <td>2017-07-21</td>\n",
       "      <td>42</td>\n",
       "      <td>259</td>\n",
       "    </tr>\n",
       "    <tr>\n",
       "      <th>458</th>\n",
       "      <td>2020-05-16</td>\n",
       "      <td>9</td>\n",
       "      <td>8</td>\n",
       "      <td>&lt;NA&gt;</td>\n",
       "      <td>Ozark</td>\n",
       "      <td>TV Show</td>\n",
       "      <td>Yes</td>\n",
       "      <td>2017-07-21</td>\n",
       "      <td>43</td>\n",
       "      <td>261</td>\n",
       "    </tr>\n",
       "    <tr>\n",
       "      <th>489</th>\n",
       "      <td>2020-05-19</td>\n",
       "      <td>10</td>\n",
       "      <td>-</td>\n",
       "      <td>7</td>\n",
       "      <td>Ozark</td>\n",
       "      <td>TV Show</td>\n",
       "      <td>Yes</td>\n",
       "      <td>2017-07-21</td>\n",
       "      <td>44</td>\n",
       "      <td>262</td>\n",
       "    </tr>\n",
       "    <tr>\n",
       "      <th>629</th>\n",
       "      <td>2020-06-02</td>\n",
       "      <td>10</td>\n",
       "      <td>-</td>\n",
       "      <td>&lt;NA&gt;</td>\n",
       "      <td>Outer Banks</td>\n",
       "      <td>TV Show</td>\n",
       "      <td>Yes</td>\n",
       "      <td>2020-04-15</td>\n",
       "      <td>41</td>\n",
       "      <td>291</td>\n",
       "    </tr>\n",
       "    <tr>\n",
       "      <th>...</th>\n",
       "      <td>...</td>\n",
       "      <td>...</td>\n",
       "      <td>...</td>\n",
       "      <td>...</td>\n",
       "      <td>...</td>\n",
       "      <td>...</td>\n",
       "      <td>...</td>\n",
       "      <td>...</td>\n",
       "      <td>...</td>\n",
       "      <td>...</td>\n",
       "    </tr>\n",
       "    <tr>\n",
       "      <th>7053</th>\n",
       "      <td>2022-03-07</td>\n",
       "      <td>4</td>\n",
       "      <td>3</td>\n",
       "      <td>4</td>\n",
       "      <td>Love is Blind</td>\n",
       "      <td>TV Show</td>\n",
       "      <td>Yes</td>\n",
       "      <td>2020-02-13</td>\n",
       "      <td>42</td>\n",
       "      <td>288</td>\n",
       "    </tr>\n",
       "    <tr>\n",
       "      <th>7063</th>\n",
       "      <td>2022-03-08</td>\n",
       "      <td>4</td>\n",
       "      <td>4</td>\n",
       "      <td>4</td>\n",
       "      <td>Love is Blind</td>\n",
       "      <td>TV Show</td>\n",
       "      <td>Yes</td>\n",
       "      <td>2020-02-13</td>\n",
       "      <td>43</td>\n",
       "      <td>295</td>\n",
       "    </tr>\n",
       "    <tr>\n",
       "      <th>7074</th>\n",
       "      <td>2022-03-09</td>\n",
       "      <td>5</td>\n",
       "      <td>4</td>\n",
       "      <td>5</td>\n",
       "      <td>Love is Blind</td>\n",
       "      <td>TV Show</td>\n",
       "      <td>Yes</td>\n",
       "      <td>2020-02-13</td>\n",
       "      <td>44</td>\n",
       "      <td>301</td>\n",
       "    </tr>\n",
       "    <tr>\n",
       "      <th>7085</th>\n",
       "      <td>2022-03-10</td>\n",
       "      <td>6</td>\n",
       "      <td>5</td>\n",
       "      <td>5</td>\n",
       "      <td>Love is Blind</td>\n",
       "      <td>TV Show</td>\n",
       "      <td>Yes</td>\n",
       "      <td>2020-02-13</td>\n",
       "      <td>45</td>\n",
       "      <td>306</td>\n",
       "    </tr>\n",
       "    <tr>\n",
       "      <th>7094</th>\n",
       "      <td>2022-03-11</td>\n",
       "      <td>5</td>\n",
       "      <td>6</td>\n",
       "      <td>6</td>\n",
       "      <td>Love is Blind</td>\n",
       "      <td>TV Show</td>\n",
       "      <td>Yes</td>\n",
       "      <td>2020-02-13</td>\n",
       "      <td>46</td>\n",
       "      <td>312</td>\n",
       "    </tr>\n",
       "  </tbody>\n",
       "</table>\n",
       "<p>743 rows × 10 columns</p>\n",
       "</div>"
      ],
      "text/plain": [
       "           As of  Rank Year to Date Rank Last Week Rank          Title  \\\n",
       "438   2020-05-14     9                 9           <NA>          Ozark   \n",
       "447   2020-05-15     8                 9             10          Ozark   \n",
       "458   2020-05-16     9                 8           <NA>          Ozark   \n",
       "489   2020-05-19    10                 -              7          Ozark   \n",
       "629   2020-06-02    10                 -           <NA>    Outer Banks   \n",
       "...          ...   ...               ...            ...            ...   \n",
       "7053  2022-03-07     4                 3              4  Love is Blind   \n",
       "7063  2022-03-08     4                 4              4  Love is Blind   \n",
       "7074  2022-03-09     5                 4              5  Love is Blind   \n",
       "7085  2022-03-10     6                 5              5  Love is Blind   \n",
       "7094  2022-03-11     5                 6              6  Love is Blind   \n",
       "\n",
       "         Type Netflix Exclusive Netflix Release Date  Days In Top 10  \\\n",
       "438   TV Show               Yes           2017-07-21              41   \n",
       "447   TV Show               Yes           2017-07-21              42   \n",
       "458   TV Show               Yes           2017-07-21              43   \n",
       "489   TV Show               Yes           2017-07-21              44   \n",
       "629   TV Show               Yes           2020-04-15              41   \n",
       "...       ...               ...                  ...             ...   \n",
       "7053  TV Show               Yes           2020-02-13              42   \n",
       "7063  TV Show               Yes           2020-02-13              43   \n",
       "7074  TV Show               Yes           2020-02-13              44   \n",
       "7085  TV Show               Yes           2020-02-13              45   \n",
       "7094  TV Show               Yes           2020-02-13              46   \n",
       "\n",
       "      Viewership Score  \n",
       "438                256  \n",
       "447                259  \n",
       "458                261  \n",
       "489                262  \n",
       "629                291  \n",
       "...                ...  \n",
       "7053               288  \n",
       "7063               295  \n",
       "7074               301  \n",
       "7085               306  \n",
       "7094               312  \n",
       "\n",
       "[743 rows x 10 columns]"
      ]
     },
     "execution_count": 34,
     "metadata": {},
     "output_type": "execute_result"
    }
   ],
   "source": [
    "# Filtragem dos outliers\n",
    "df_outliers = df[(df['Days In Top 10'] < lower_bound) | (df['Days In Top 10'] > upper_bound)]\n",
    "df_outliers"
   ]
  },
  {
   "cell_type": "markdown",
   "metadata": {},
   "source": [
    "#### Histogramas"
   ]
  },
  {
   "cell_type": "code",
   "execution_count": 45,
   "metadata": {},
   "outputs": [
    {
     "data": {
      "text/plain": [
       "<Axes: ylabel='Frequency'>"
      ]
     },
     "execution_count": 45,
     "metadata": {},
     "output_type": "execute_result"
    },
    {
     "data": {
      "image/png": "[encoded data removed]",
      "text/plain": [
       "<Figure size 1600x800 with 1 Axes>"
      ]
     },
     "metadata": {},
     "output_type": "display_data"
    }
   ],
   "source": [
    "# Histograma da coluna \"Days In Top 10\"\n",
    "df['Days In Top 10'].plot(kind='hist', bins=20, figsize=(16,8))"
   ]
  },
  {
   "cell_type": "code",
   "execution_count": 46,
   "metadata": {},
   "outputs": [
    {
     "data": {
      "text/plain": [
       "<Axes: ylabel='Frequency'>"
      ]
     },
     "execution_count": 46,
     "metadata": {},
     "output_type": "execute_result"
    },
    {
     "data": {
      "image/png": "[encoded data removed]",
      "text/plain": [
       "<Figure size 1600x800 with 1 Axes>"
      ]
     },
     "metadata": {},
     "output_type": "display_data"
    }
   ],
   "source": [
    "# Histograma da coluna \"Viewership Score\"\n",
    "df['Viewership Score'].plot(kind='hist', bins=20, figsize=(16,8))"
   ]
  },
  {
   "cell_type": "markdown",
   "metadata": {},
   "source": [
    "> Ambos os histogramas apresentam uma distribuição **assimétrica à direita**, indicando que a maioria dos títulos teve **poucos dias no Top 10** e alcançou **baixas pontuações de audiência**.  \n",
    ">  \n",
    "> Isso sugere que a maioria dos conteúdos entra e sai rapidamente do ranking, enquanto poucos títulos permanecem por períodos mais longos e acumulam pontuações mais altas."
   ]
  },
  {
   "cell_type": "markdown",
   "metadata": {},
   "source": [
    "#### Boxplot"
   ]
  },
  {
   "cell_type": "code",
   "execution_count": 55,
   "metadata": {},
   "outputs": [
    {
     "name": "stderr",
     "output_type": "stream",
     "text": [
      "C:\\Users\\Matheus Vaz\\AppData\\Local\\Temp\\ipykernel_2920\\1542947942.py:3: FutureWarning: \n",
      "\n",
      "Passing `palette` without assigning `hue` is deprecated and will be removed in v0.14.0. Assign the `x` variable to `hue` and set `legend=False` for the same effect.\n",
      "\n",
      "  sns.boxplot(data=df, x='Type', y='Viewership Score', palette='viridis')\n"
     ]
    },
    {
     "data": {
      "image/png": "[encoded data removed]",
      "text/plain": [
       "<Figure size 1600x800 with 1 Axes>"
      ]
     },
     "metadata": {},
     "output_type": "display_data"
    }
   ],
   "source": [
    "# Visualização dos bloxplots da coluna \"Type\" por \"Viewership Score\" com sns\n",
    "plt.figure(figsize=(16,8))\n",
    "sns.boxplot(data=df, x='Type', y='Viewership Score', palette='viridis')\n",
    "plt.show()"
   ]
  },
  {
   "cell_type": "code",
   "execution_count": 56,
   "metadata": {},
   "outputs": [
    {
     "name": "stderr",
     "output_type": "stream",
     "text": [
      "C:\\Users\\Matheus Vaz\\AppData\\Local\\Temp\\ipykernel_2920\\3158275961.py:3: FutureWarning: \n",
      "\n",
      "Passing `palette` without assigning `hue` is deprecated and will be removed in v0.14.0. Assign the `x` variable to `hue` and set `legend=False` for the same effect.\n",
      "\n",
      "  sns.boxplot(data=df, x='Type', y='Days In Top 10', palette='viridis')\n"
     ]
    },
    {
     "data": {
      "image/png": "[encoded data removed]",
      "text/plain": [
       "<Figure size 1600x800 with 1 Axes>"
      ]
     },
     "metadata": {},
     "output_type": "display_data"
    }
   ],
   "source": [
    "# Visualização dos bloxplots da coluna \"Type\" por \"Days In Top 10\" com sns\n",
    "plt.figure(figsize=(16,8))\n",
    "sns.boxplot(data=df, x='Type', y='Days In Top 10', palette='viridis')\n",
    "plt.show()"
   ]
  },
  {
   "cell_type": "markdown",
   "metadata": {},
   "source": [
    "> A distribuição dos dados revela que a categoria **\"TV Show\"** apresenta **maior variabilidade** tanto no número de dias no Top 10 quanto no Viewership Score.  \n",
    ">  \n",
    "> - As **caixas (IQR)** dos **TV Shows** são mais amplas, indicando uma maior dispersão nos dados.  \n",
    "> - Há uma **quantidade significativa de outliers** nessa categoria, o que sugere que algumas séries permanecem muito mais tempo no ranking ou acumulam audiências atípicas.\n",
    ">  \n",
    "> Esse comportamento pode indicar que séries possuem mais episódios e temporadas, o que incentiva os espectadores a consumirem o conteúdo por mais tempo, enquanto filmes têm um ciclo de consumo mais curto."
   ]
  },
  {
   "cell_type": "code",
   "execution_count": null,
   "metadata": {},
   "outputs": [],
   "source": []
  }
 ],
 "metadata": {
  "kernelspec": {
   "display_name": ".venv",
   "language": "python",
   "name": "python3"
  },
  "language_info": {
   "codemirror_mode": {
    "name": "ipython",
    "version": 3
   },
   "file_extension": ".py",
   "mimetype": "text/x-python",
   "name": "python",
   "nbconvert_exporter": "python",
   "pygments_lexer": "ipython3",
   "version": "3.11.9"
  }
 },
 "nbformat": 4,
 "nbformat_minor": 2
}
